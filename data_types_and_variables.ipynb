{
 "cells": [
  {
   "cell_type": "markdown",
   "id": "d457a432",
   "metadata": {},
   "source": [
    "### Create a Python script file named data_types_and_variables.py. Inside it, write some Python code, that is, variables and operators, to describe the following scenarios. Do not worry about the real operations to get the values, the goal of these exercises is to understand how real world conditions can be represented with code."
   ]
  },
  {
   "cell_type": "markdown",
   "id": "3789730f",
   "metadata": {},
   "source": [
    "You have rented some movies for your kids: The little mermaid (for 3 days), Brother Bear (for 5 days, they love it), and Hercules (1 day, you don't know yet if they're going to like it). If price for a movie per day is 3 dollars, how much will you have to pay?"
   ]
  },
  {
   "cell_type": "code",
   "execution_count": 45,
   "id": "e1e265b5",
   "metadata": {},
   "outputs": [],
   "source": [
    "little_mermaid = 3\n",
    "brother_bear = 5\n",
    "hercules = 1\n",
    "price_per_day = 3"
   ]
  },
  {
   "cell_type": "code",
   "execution_count": 46,
   "id": "b68d933a",
   "metadata": {},
   "outputs": [],
   "source": [
    "total = price_per_day * (little_mermaid + brother_bear + hercules)"
   ]
  },
  {
   "cell_type": "code",
   "execution_count": 47,
   "id": "79e172e2",
   "metadata": {},
   "outputs": [
    {
     "data": {
      "text/plain": [
       "27"
      ]
     },
     "execution_count": 47,
     "metadata": {},
     "output_type": "execute_result"
    }
   ],
   "source": [
    "total"
   ]
  },
  {
   "cell_type": "markdown",
   "id": "1f487a4c",
   "metadata": {},
   "source": [
    "Suppose you're working as a contractor for 3 companies: Google, Amazon and Facebook, they pay you a different rate per hour. Google pays 400 dollars per hour, Amazon 380, and Facebook 350. How much will you receive in payment for this week? You worked 10 hours for Facebook, 6 hours for Google and 4 hours for Amazon."
   ]
  },
  {
   "cell_type": "code",
   "execution_count": 16,
   "id": "e358063f",
   "metadata": {},
   "outputs": [
    {
     "name": "stdout",
     "output_type": "stream",
     "text": [
      "Total payment comes to:\n",
      "$ 7420\n"
     ]
    }
   ],
   "source": [
    "google = (400 * 6)\n",
    "amazon = (380 * 4)\n",
    "facebook = (350 * 10)\n",
    "total_payment = google + amazon + facebook\n",
    "print('Total payment comes to:') \n",
    "print('$', total_payment)"
   ]
  },
  {
   "cell_type": "markdown",
   "id": "48d21371",
   "metadata": {},
   "source": [
    "A student can be enrolled to a class only if the class is not full and the class schedule does not conflict with her current schedule."
   ]
  },
  {
   "cell_type": "code",
   "execution_count": 49,
   "id": "a67b6765",
   "metadata": {},
   "outputs": [
    {
     "data": {
      "text/plain": [
       "True"
      ]
     },
     "execution_count": 49,
     "metadata": {},
     "output_type": "execute_result"
    }
   ],
   "source": [
    "class_is_not_full = True\n",
    "schedule_does_not_conflict = True\n",
    "enroll = class_is_not_full and schedule_does_not_conflict\n",
    "enroll"
   ]
  },
  {
   "cell_type": "markdown",
   "id": "4d8d7e31",
   "metadata": {},
   "source": [
    "A product offer can be applied only if people buys more than 2 items, and the offer has not expired. Premium members do not need to buy a specific amount of products."
   ]
  },
  {
   "cell_type": "code",
   "execution_count": 50,
   "id": "8c4d788c",
   "metadata": {},
   "outputs": [],
   "source": [
    "purchase_more_than_two = True\n",
    "product_not_expired = True\n",
    "premium_membership = False\n",
    "discount_eli = product_not_expired and (purchase_more_than_two or premium_membrship)"
   ]
  },
  {
   "cell_type": "code",
   "execution_count": 51,
   "id": "3b830234",
   "metadata": {},
   "outputs": [
    {
     "data": {
      "text/plain": [
       "True"
      ]
     },
     "execution_count": 51,
     "metadata": {},
     "output_type": "execute_result"
    }
   ],
   "source": [
    "discount_eli"
   ]
  },
  {
   "cell_type": "markdown",
   "id": "4c9f504f",
   "metadata": {},
   "source": [
    "Create a variable that holds a boolean value for each of the following conditions:\n",
    "\n",
    "the password must be at least 5 characters\n",
    "\n",
    "the username must be no more than 20 characters\n",
    "\n",
    "the password must not be the same as the username\n",
    "\n",
    "bonus neither the username or password can start or end with whitespace\n"
   ]
  },
  {
   "cell_type": "code",
   "execution_count": 60,
   "id": "c220236f",
   "metadata": {},
   "outputs": [
    {
     "data": {
      "text/plain": [
       "False"
      ]
     },
     "execution_count": 60,
     "metadata": {},
     "output_type": "execute_result"
    }
   ],
   "source": [
    "my_username = 'heywood'\n",
    "my_password = 'UTEPadamkalatroy'\n",
    "check_1 = len(my_password) >= 5\n",
    "check_2 = len(my_username) <= 20\n",
    "check_3 = my_username != my_password\n",
    "check_3\n",
    "no_whitespace_username = not(my_username.startswith(' ') or my_username [-1] == ' ')\n",
    "no_whitespace_password = not(my_password.startswith(' ') or my_password [-1] == ' ')\n",
    "user_and_pass_valid = no_whitespace_username and no_whitespace_password\n",
    "user_and_pass_valid"
   ]
  },
  {
   "cell_type": "code",
   "execution_count": null,
   "id": "81c38dba",
   "metadata": {},
   "outputs": [],
   "source": []
  }
 ],
 "metadata": {
  "kernelspec": {
   "display_name": "Python 3 (ipykernel)",
   "language": "python",
   "name": "python3"
  },
  "language_info": {
   "codemirror_mode": {
    "name": "ipython",
    "version": 3
   },
   "file_extension": ".py",
   "mimetype": "text/x-python",
   "name": "python",
   "nbconvert_exporter": "python",
   "pygments_lexer": "ipython3",
   "version": "3.9.13"
  }
 },
 "nbformat": 4,
 "nbformat_minor": 5
}
