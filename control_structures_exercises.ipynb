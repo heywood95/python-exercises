{
 "cells": [
  {
   "cell_type": "markdown",
   "id": "9b3299f3",
   "metadata": {},
   "source": [
    "# 1. Conditional Basics"
   ]
  },
  {
   "cell_type": "markdown",
   "id": "493168ba",
   "metadata": {},
   "source": [
    "a. prompt the user for a day of the week, print out whether the day is Monday or not."
   ]
  },
  {
   "cell_type": "code",
   "execution_count": null,
   "id": "36b3a20a",
   "metadata": {},
   "outputs": [],
   "source": [
    "day_of_the_week = input('Enter the day of the week: ')\n",
    "\n",
    "if day_of_the_week.strip().lower == 'monday':\n",
    "    \n",
    "    print('It\\'s Monday')\n",
    "    \n",
    "else:\n",
    "    \n",
    "    print('Not Monday today!')"
   ]
  },
  {
   "cell_type": "markdown",
   "id": "650f763b",
   "metadata": {},
   "source": [
    "b. prompt the user for a day of the week, print out whether the day is a weekday or a weekend."
   ]
  },
  {
   "cell_type": "code",
   "execution_count": null,
   "id": "4806fd9a",
   "metadata": {},
   "outputs": [],
   "source": [
    "day_of_the_week = input('Enter the dat of the week: ')\n",
    "if day_of_the_week.strip().lower() in [] == 'Saturday':\n",
    "    print('Weekend')\n",
    "elif day_of_the_week == 'Sunday':\n",
    "    print('Weekend')\n",
    "else:\n",
    "    print('Weekday')"
   ]
  },
  {
   "cell_type": "markdown",
   "id": "f6377f6c",
   "metadata": {},
   "source": [
    "c. create variables and make up values for\n",
    "\n",
    "the number of hours worked in one week\n",
    "\n",
    "the hourly rate\n",
    "\n",
    "how much the week's paycheck will be\n",
    "\n",
    "write the python code that calculates the weekly paycheck. You get paid time and a half if you work more than 40 hours"
   ]
  },
  {
   "cell_type": "code",
   "execution_count": 16,
   "id": "c86115b2",
   "metadata": {},
   "outputs": [
    {
     "name": "stdout",
     "output_type": "stream",
     "text": [
      "your weekly paycheck is 1500.0\n"
     ]
    }
   ],
   "source": [
    "hours_worked_in_one_week = 50\n",
    "if hours_worked_in_one_week > 40:\n",
    "    hourly_rate = 30.00\n",
    "else:\n",
    "    hourly_rate = 20.00\n",
    "weekly_paycheck = hourly_rate * hours_worked_in_one_week\n",
    "print('your weekly paycheck is', weekly_paycheck)\n",
    "    "
   ]
  },
  {
   "cell_type": "markdown",
   "id": "b96b2a53",
   "metadata": {},
   "source": [
    "# 2. Loop Basics"
   ]
  },
  {
   "cell_type": "markdown",
   "id": "86830053",
   "metadata": {},
   "source": [
    "a. While\n",
    "\n",
    "Create an integer variable i with a value of 5.\n",
    "\n",
    "Create a while loop that runs so long as i is less than or equal to 15\n",
    "\n",
    "Each loop iteration, output the current value of i, then increment i by one."
   ]
  },
  {
   "cell_type": "code",
   "execution_count": 175,
   "id": "5930452c",
   "metadata": {},
   "outputs": [
    {
     "name": "stdout",
     "output_type": "stream",
     "text": [
      "5\n",
      "6\n",
      "7\n",
      "8\n",
      "9\n",
      "10\n",
      "11\n",
      "12\n",
      "13\n",
      "14\n",
      "15\n"
     ]
    }
   ],
   "source": [
    "i = 5\n",
    "\n",
    "while i <= 15: \n",
    "    print(i)\n",
    "    i += 1"
   ]
  },
  {
   "cell_type": "markdown",
   "id": "16c155e1",
   "metadata": {},
   "source": [
    "Create a while loop that will count by 2's starting with 0 and ending at 100. Follow each number with a new line.\n",
    "\n",
    "Alter your loop to count backwards by 5's from 100 to -10.\n",
    "\n",
    "Create a while loop that starts at 2, and displays the number squared on each line while the number is less than 1,000,000. \n",
    "\n",
    "\n"
   ]
  },
  {
   "cell_type": "code",
   "execution_count": 176,
   "id": "daff9069",
   "metadata": {},
   "outputs": [
    {
     "name": "stdout",
     "output_type": "stream",
     "text": [
      "0\n",
      "2\n",
      "4\n",
      "6\n",
      "8\n",
      "10\n",
      "12\n",
      "14\n",
      "16\n",
      "18\n",
      "20\n",
      "22\n",
      "24\n",
      "26\n",
      "28\n",
      "30\n",
      "32\n",
      "34\n",
      "36\n",
      "38\n",
      "40\n",
      "42\n",
      "44\n",
      "46\n",
      "48\n",
      "50\n",
      "52\n",
      "54\n",
      "56\n",
      "58\n",
      "60\n",
      "62\n",
      "64\n",
      "66\n",
      "68\n",
      "70\n",
      "72\n",
      "74\n",
      "76\n",
      "78\n",
      "80\n",
      "82\n",
      "84\n",
      "86\n",
      "88\n",
      "90\n",
      "92\n",
      "94\n",
      "96\n",
      "98\n",
      "100\n"
     ]
    }
   ],
   "source": [
    "i = 0\n",
    "\n",
    "while i <= 100:\n",
    "    print(i)\n",
    "    i += 2\n"
   ]
  },
  {
   "cell_type": "code",
   "execution_count": 177,
   "id": "dd31c740",
   "metadata": {},
   "outputs": [
    {
     "name": "stdout",
     "output_type": "stream",
     "text": [
      "100\n",
      "95\n",
      "90\n",
      "85\n",
      "80\n",
      "75\n",
      "70\n",
      "65\n",
      "60\n",
      "55\n",
      "50\n",
      "45\n",
      "40\n",
      "35\n",
      "30\n",
      "25\n",
      "20\n",
      "15\n",
      "10\n",
      "5\n",
      "0\n",
      "-5\n",
      "-10\n"
     ]
    }
   ],
   "source": [
    "i = 100\n",
    "\n",
    "while i >= -10:\n",
    "    print(i)\n",
    "    i -= 5"
   ]
  },
  {
   "cell_type": "code",
   "execution_count": 9,
   "id": "87c70c12",
   "metadata": {},
   "outputs": [
    {
     "name": "stdout",
     "output_type": "stream",
     "text": [
      "2\n",
      "4\n",
      "16\n",
      "256\n",
      "65536\n"
     ]
    }
   ],
   "source": [
    "i = 2\n",
    "\n",
    "while i < 1_000_000:\n",
    "    print(i)\n",
    "    i **= 2"
   ]
  },
  {
   "cell_type": "markdown",
   "id": "8722c654",
   "metadata": {},
   "source": [
    "Write a loop that uses print to create the output shown below."
   ]
  },
  {
   "cell_type": "code",
   "execution_count": 24,
   "id": "3fe99dfb",
   "metadata": {},
   "outputs": [
    {
     "name": "stdout",
     "output_type": "stream",
     "text": [
      "100\n",
      "95\n",
      "90\n",
      "85\n",
      "80\n",
      "75\n",
      "70\n",
      "65\n",
      "60\n",
      "55\n",
      "50\n",
      "45\n",
      "40\n",
      "35\n",
      "30\n",
      "25\n",
      "20\n",
      "15\n",
      "10\n",
      "5\n"
     ]
    }
   ],
   "source": [
    "i = 100\n",
    "\n",
    "while i > 0:\n",
    "    print(i)\n",
    "    i -= 5"
   ]
  },
  {
   "cell_type": "markdown",
   "id": "792986dc",
   "metadata": {},
   "source": [
    "b. For Loops\n",
    "\n",
    "i. Write some code that prompts the user for a number, then shows a multiplication table up through 10 for that number."
   ]
  },
  {
   "cell_type": "code",
   "execution_count": 59,
   "id": "9332c6b2",
   "metadata": {},
   "outputs": [
    {
     "name": "stdout",
     "output_type": "stream",
     "text": [
      "  7 X 1 = 7\n",
      "  7 X 2 = 14\n",
      "  7 X 3 = 21\n",
      "  7 X 4 = 28\n",
      "  7 X 5 = 35\n",
      "  7 X 6 = 42\n",
      "  7 X 7 = 49\n",
      "  7 X 8 = 56\n",
      "  7 X 9 = 63\n",
      "  7 X 10 = 70\n"
     ]
    }
   ],
   "source": [
    "user_number = 7\n",
    "\n",
    "mult_table = (1, 2, 3, 4, 5, 6, 7, 8, 9, 10)\n",
    "for n in mult_table:\n",
    "    print(f' ', user_number, 'X', n, '=', (user_number * n))"
   ]
  },
  {
   "cell_type": "markdown",
   "id": "ffdc43dc",
   "metadata": {},
   "source": [
    "ii. Create a for loop that uses print to create the output shown below."
   ]
  },
  {
   "cell_type": "code",
   "execution_count": 178,
   "id": "d5304a76",
   "metadata": {},
   "outputs": [
    {
     "name": "stdout",
     "output_type": "stream",
     "text": [
      "1\n",
      "22\n",
      "333\n",
      "4444\n",
      "55555\n",
      "666666\n",
      "7777777\n",
      "88888888\n",
      "999999999\n"
     ]
    }
   ],
   "source": [
    "\n",
    "for x in range(1, 10):\n",
    "    print(x * str(x))"
   ]
  },
  {
   "cell_type": "markdown",
   "id": "816b9dc1",
   "metadata": {},
   "source": [
    "c. break and continue\n",
    "\n",
    "i. Write a program that prompts the user for a positive integer. Next write a loop that prints out the numbers from the number the user entered down to 1."
   ]
  },
  {
   "cell_type": "code",
   "execution_count": 179,
   "id": "fa5b1718",
   "metadata": {},
   "outputs": [
    {
     "name": "stdout",
     "output_type": "stream",
     "text": [
      "5\n",
      "4\n",
      "3\n",
      "2\n",
      "1\n"
     ]
    }
   ],
   "source": [
    "positive_int = 5\n",
    "\n",
    "for i in range(positive_int):\n",
    "    if i > 0:\n",
    "        continue\n",
    "while i > -1:\n",
    "    print(i + 1)\n",
    "    i -= 1\n",
    "    "
   ]
  },
  {
   "cell_type": "markdown",
   "id": "e0751810",
   "metadata": {},
   "source": [
    "ii. The input function can be used to prompt for input and use that input in your python code. Prompt the user to enter a positive number and write a loop that counts from 0 to that number. (Hints: first make sure that the value the user entered is a valid number, also note that the input function returns a string, so you'll need to convert this to a numeric type.)"
   ]
  },
  {
   "cell_type": "code",
   "execution_count": 181,
   "id": "151bbb34",
   "metadata": {},
   "outputs": [
    {
     "name": "stdout",
     "output_type": "stream",
     "text": [
      "0\n",
      "1\n",
      "2\n",
      "3\n",
      "4\n",
      "5\n",
      "6\n",
      "7\n",
      "8\n",
      "9\n",
      "10\n",
      "11\n"
     ]
    }
   ],
   "source": [
    "user_in = 11\n",
    "\n",
    "counter = 0\n",
    "while counter <= user_in:\n",
    "    print(counter)\n",
    "    counter += 1"
   ]
  },
  {
   "cell_type": "markdown",
   "id": "83ac4581",
   "metadata": {},
   "source": [
    "iii. Prompt the user for an odd number between 1 and 50. Use a loop and a break statement to continue prompting the user if they enter invalid input. (Hint: use the isdigit method on strings to determine this). Use a loop and the continue statement to output all the odd numbers between 1 and 50, except for the number the user entered."
   ]
  },
  {
   "cell_type": "code",
   "execution_count": null,
   "id": "82b245fb",
   "metadata": {},
   "outputs": [],
   "source": [
    "while True:\n",
    "    \n",
    "    your_num = input('Input your number here: ')\n",
    "    if your_num.isdigit() and int(your_num) % 2 == 1 and 0 < int(your_num) < 50:\n",
    "        break\n",
    "    else:\n",
    "        print('Invalid input. Try again.')\n",
    "counter = 1\n",
    "while counter < 50:\n",
    "    if counter == int(your_num):\n",
    "        counter += 2\n",
    "    else:\n",
    "        print(counter)\n",
    "        counter += 2\n",
    "        "
   ]
  },
  {
   "cell_type": "markdown",
   "id": "297886e0",
   "metadata": {},
   "source": [
    "# 3. Fizzbuzz"
   ]
  },
  {
   "cell_type": "markdown",
   "id": "04731b80",
   "metadata": {},
   "source": [
    "One of the most common interview questions for entry-level programmers is the FizzBuzz test. Developed by Imran Ghory, the test is designed to test basic looping and conditional logic skills.\n",
    "\n",
    "Write a program that prints the numbers from 1 to 100."
   ]
  },
  {
   "cell_type": "code",
   "execution_count": null,
   "id": "d38451eb",
   "metadata": {},
   "outputs": [],
   "source": [
    "counter = 1\n",
    "while counter <= 100:\n",
    "    if counter % 15 == 0:\n",
    "        print('FizzBuzz')\n",
    "    elif counter % 5 == 0:\n",
    "        print('Buzz')\n",
    "    elif counter % 3 == 0:\n",
    "        print('Fizz')\n",
    "    else:\n",
    "        print(counter)\n",
    "    counter += 1"
   ]
  },
  {
   "cell_type": "markdown",
   "id": "8e18d25e",
   "metadata": {},
   "source": [
    "# 4. Display a table of powers"
   ]
  },
  {
   "cell_type": "markdown",
   "id": "d0bd955a",
   "metadata": {},
   "source": [
    "Prompt the user to enter an integer.\n",
    "\n",
    "Display a table of squares and cubes from 1 to the value entered.\n",
    "\n",
    "Ask if the user wants to continue.\n",
    "\n",
    "Assume that the user will enter valid data.\n",
    "\n",
    "Only continue if the user agrees to."
   ]
  },
  {
   "cell_type": "code",
   "execution_count": null,
   "id": "d9bafd6a",
   "metadata": {},
   "outputs": [],
   "source": [
    "your_num = int(input('Input your number here '))\n",
    "counter = 1\n",
    "print('number squared cubed')\n",
    "print('_____ ____ ____')\n",
    "while counter <= your_num:\n",
    "    print(f'{counter} {counter ** 2} {counter})"
   ]
  },
  {
   "cell_type": "markdown",
   "id": "72b6fc6b",
   "metadata": {},
   "source": [
    "# 5. Convert given number grades into letter grades"
   ]
  },
  {
   "cell_type": "markdown",
   "id": "3b0d9633",
   "metadata": {},
   "source": [
    "Prompt the user for a numerical grade from 0 to 100.\n",
    "\n",
    "Display the corresponding letter grade.\n",
    "\n",
    "Prompt the user to continue.\n",
    "\n",
    "Assume that the user will enter valid integers for the grades.\n",
    "\n",
    "The application should only continue if the user agrees to.\n",
    "\n",
    "Grade Ranges:\n",
    "\n",
    "A : 100 - 88\n",
    "B : 87 - 80\n",
    "C : 79 - 67\n",
    "D : 66 - 60\n",
    "F : 59 - 0"
   ]
  },
  {
   "cell_type": "code",
   "execution_count": 1,
   "id": "e40a5738",
   "metadata": {},
   "outputs": [
    {
     "ename": "KeyboardInterrupt",
     "evalue": "Interrupted by user",
     "output_type": "error",
     "traceback": [
      "\u001b[0;31m---------------------------------------------------------------------------\u001b[0m",
      "\u001b[0;31mKeyboardInterrupt\u001b[0m                         Traceback (most recent call last)",
      "\u001b[0;32m/var/folders/2g/_40bymd11_x47n42bls8ypmr0000gn/T/ipykernel_1562/123982701.py\u001b[0m in \u001b[0;36m<module>\u001b[0;34m\u001b[0m\n\u001b[1;32m      1\u001b[0m \u001b[0;32mwhile\u001b[0m \u001b[0;32mTrue\u001b[0m\u001b[0;34m:\u001b[0m\u001b[0;34m\u001b[0m\u001b[0;34m\u001b[0m\u001b[0m\n\u001b[0;32m----> 2\u001b[0;31m     \u001b[0myour_num\u001b[0m \u001b[0;34m=\u001b[0m \u001b[0mint\u001b[0m\u001b[0;34m(\u001b[0m\u001b[0minput\u001b[0m\u001b[0;34m(\u001b[0m\u001b[0;34m'Input your grade here: '\u001b[0m\u001b[0;34m)\u001b[0m\u001b[0;34m)\u001b[0m\u001b[0;34m\u001b[0m\u001b[0;34m\u001b[0m\u001b[0m\n\u001b[0m\u001b[1;32m      3\u001b[0m     \u001b[0;32mif\u001b[0m \u001b[0myour_num\u001b[0m \u001b[0;34m>=\u001b[0m \u001b[0;36m88\u001b[0m\u001b[0;34m:\u001b[0m\u001b[0;34m\u001b[0m\u001b[0;34m\u001b[0m\u001b[0m\n\u001b[1;32m      4\u001b[0m         \u001b[0mprint\u001b[0m\u001b[0;34m(\u001b[0m\u001b[0;34m'A'\u001b[0m\u001b[0;34m)\u001b[0m\u001b[0;34m\u001b[0m\u001b[0;34m\u001b[0m\u001b[0m\n\u001b[1;32m      5\u001b[0m     \u001b[0;32melif\u001b[0m \u001b[0myour_num\u001b[0m \u001b[0;34m>=\u001b[0m \u001b[0;36m80\u001b[0m\u001b[0;34m:\u001b[0m\u001b[0;34m\u001b[0m\u001b[0;34m\u001b[0m\u001b[0m\n",
      "\u001b[0;32m/usr/local/anaconda3/lib/python3.9/site-packages/ipykernel/kernelbase.py\u001b[0m in \u001b[0;36mraw_input\u001b[0;34m(self, prompt)\u001b[0m\n\u001b[1;32m   1175\u001b[0m                 \u001b[0;34m\"raw_input was called, but this frontend does not support input requests.\"\u001b[0m\u001b[0;34m\u001b[0m\u001b[0;34m\u001b[0m\u001b[0m\n\u001b[1;32m   1176\u001b[0m             )\n\u001b[0;32m-> 1177\u001b[0;31m         return self._input_request(\n\u001b[0m\u001b[1;32m   1178\u001b[0m             \u001b[0mstr\u001b[0m\u001b[0;34m(\u001b[0m\u001b[0mprompt\u001b[0m\u001b[0;34m)\u001b[0m\u001b[0;34m,\u001b[0m\u001b[0;34m\u001b[0m\u001b[0;34m\u001b[0m\u001b[0m\n\u001b[1;32m   1179\u001b[0m             \u001b[0mself\u001b[0m\u001b[0;34m.\u001b[0m\u001b[0m_parent_ident\u001b[0m\u001b[0;34m[\u001b[0m\u001b[0;34m\"shell\"\u001b[0m\u001b[0;34m]\u001b[0m\u001b[0;34m,\u001b[0m\u001b[0;34m\u001b[0m\u001b[0;34m\u001b[0m\u001b[0m\n",
      "\u001b[0;32m/usr/local/anaconda3/lib/python3.9/site-packages/ipykernel/kernelbase.py\u001b[0m in \u001b[0;36m_input_request\u001b[0;34m(self, prompt, ident, parent, password)\u001b[0m\n\u001b[1;32m   1217\u001b[0m             \u001b[0;32mexcept\u001b[0m \u001b[0mKeyboardInterrupt\u001b[0m\u001b[0;34m:\u001b[0m\u001b[0;34m\u001b[0m\u001b[0;34m\u001b[0m\u001b[0m\n\u001b[1;32m   1218\u001b[0m                 \u001b[0;31m# re-raise KeyboardInterrupt, to truncate traceback\u001b[0m\u001b[0;34m\u001b[0m\u001b[0;34m\u001b[0m\u001b[0m\n\u001b[0;32m-> 1219\u001b[0;31m                 \u001b[0;32mraise\u001b[0m \u001b[0mKeyboardInterrupt\u001b[0m\u001b[0;34m(\u001b[0m\u001b[0;34m\"Interrupted by user\"\u001b[0m\u001b[0;34m)\u001b[0m \u001b[0;32mfrom\u001b[0m \u001b[0;32mNone\u001b[0m\u001b[0;34m\u001b[0m\u001b[0;34m\u001b[0m\u001b[0m\n\u001b[0m\u001b[1;32m   1220\u001b[0m             \u001b[0;32mexcept\u001b[0m \u001b[0mException\u001b[0m\u001b[0;34m:\u001b[0m\u001b[0;34m\u001b[0m\u001b[0;34m\u001b[0m\u001b[0m\n\u001b[1;32m   1221\u001b[0m                 \u001b[0mself\u001b[0m\u001b[0;34m.\u001b[0m\u001b[0mlog\u001b[0m\u001b[0;34m.\u001b[0m\u001b[0mwarning\u001b[0m\u001b[0;34m(\u001b[0m\u001b[0;34m\"Invalid Message:\"\u001b[0m\u001b[0;34m,\u001b[0m \u001b[0mexc_info\u001b[0m\u001b[0;34m=\u001b[0m\u001b[0;32mTrue\u001b[0m\u001b[0;34m)\u001b[0m\u001b[0;34m\u001b[0m\u001b[0;34m\u001b[0m\u001b[0m\n",
      "\u001b[0;31mKeyboardInterrupt\u001b[0m: Interrupted by user"
     ]
    }
   ],
   "source": [
    "while True:\n",
    "    your_num = int(input('Input your grade here: '))\n",
    "    if your_num >= 88:\n",
    "        print('A')\n",
    "    elif your_num >= 80:\n",
    "        print('B')\n",
    "    elif your_num >= 67:\n",
    "        print('C')\n",
    "    elif your_num > 60:\n",
    "        print('D')\n",
    "    else:\n",
    "        print('F')\n",
    "    your_input = input('Do you want to contine: (Y/N)')\n",
    "    if your_input.lower().strip() == 'n':\n",
    "        break\n",
    "    "
   ]
  },
  {
   "cell_type": "code",
   "execution_count": 2,
   "id": "9af4ea7c",
   "metadata": {},
   "outputs": [
    {
     "ename": "SyntaxError",
     "evalue": "invalid syntax (2074824105.py, line 2)",
     "output_type": "error",
     "traceback": [
      "\u001b[0;36m  File \u001b[0;32m\"/var/folders/2g/_40bymd11_x47n42bls8ypmr0000gn/T/ipykernel_1562/2074824105.py\"\u001b[0;36m, line \u001b[0;32m2\u001b[0m\n\u001b[0;31m    {'title': 'The Stand', 'author': 'Stephen King', 'genre': 'Horror'\u001b[0m\n\u001b[0m    ^\u001b[0m\n\u001b[0;31mSyntaxError\u001b[0m\u001b[0;31m:\u001b[0m invalid syntax\n"
     ]
    }
   ],
   "source": [
    "books_read = [{'title': 'Of Mice and Men', 'author': 'John Steinbeck', 'genre': 'Fiction'}\n",
    "             {'title': 'The Stand', 'author': 'Stephen King', 'genre': 'Horror'\n",
    "             'title': 'The Injustice Never Leaves Youn', 'author': 'Monica Munoz', 'genre': 'History'}]\n",
    "\n",
    "for book in books_read:\n",
    "    print('Title: {}.' .format(book['title']))\n",
    "    print('Author: {}.' .format(book['author']))\n",
    "    print('Genre: {}.' .format(book['genre']))\n",
    "    print()\n",
    "\n",
    "\n",
    "\n",
    "your_genre = input ('Which genre interests you?')\n",
    "interesting_books = []\n",
    "for book in books_read:\n",
    "    if book['genre'].strip().lower() == your_genre.strip().lower():\n",
    "        intresting_books.append(book['title'])\n",
    "print(interesting_books)"
   ]
  },
  {
   "cell_type": "code",
   "execution_count": null,
   "id": "6293e7ee",
   "metadata": {},
   "outputs": [],
   "source": []
  }
 ],
 "metadata": {
  "kernelspec": {
   "display_name": "Python 3 (ipykernel)",
   "language": "python",
   "name": "python3"
  },
  "language_info": {
   "codemirror_mode": {
    "name": "ipython",
    "version": 3
   },
   "file_extension": ".py",
   "mimetype": "text/x-python",
   "name": "python",
   "nbconvert_exporter": "python",
   "pygments_lexer": "ipython3",
   "version": "3.9.13"
  }
 },
 "nbformat": 4,
 "nbformat_minor": 5
}
