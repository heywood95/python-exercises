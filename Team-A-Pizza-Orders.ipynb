{
 "cells": [
  {
   "cell_type": "code",
   "execution_count": 62,
   "id": "caf85e1e",
   "metadata": {},
   "outputs": [
    {
     "name": "stdout",
     "output_type": "stream",
     "text": [
      "Please select 1 = credit card, 2 = cash, 3 = check 2\n",
      "please pay at the store, no bills over $50 accepted\n"
     ]
    }
   ],
   "source": [
    "def get_payment_selection():\n",
    "    payment_option = int(input('Please select 1 = credit card, 2 = cash, 3 = check '))\n",
    "\n",
    "    if payment_option == 1:\n",
    "        print('please input credit card number')\n",
    "    elif payment_option == 2:\n",
    "        print('please pay at the store, no bills over $50 accepted')\n",
    "    elif payment_option == 3:\n",
    "        print('present second id and no orders under $20 accepted when paying by check')\n",
    "    else:\n",
    "        print('please enter a selection from 1-3')\n",
    "get_payment_selection()"
   ]
  },
  {
   "cell_type": "code",
   "execution_count": null,
   "id": "bd4e569c",
   "metadata": {},
   "outputs": [],
   "source": []
  },
  {
   "cell_type": "code",
   "execution_count": null,
   "id": "e121a6de",
   "metadata": {},
   "outputs": [],
   "source": []
  }
 ],
 "metadata": {
  "kernelspec": {
   "display_name": "Python 3 (ipykernel)",
   "language": "python",
   "name": "python3"
  },
  "language_info": {
   "codemirror_mode": {
    "name": "ipython",
    "version": 3
   },
   "file_extension": ".py",
   "mimetype": "text/x-python",
   "name": "python",
   "nbconvert_exporter": "python",
   "pygments_lexer": "ipython3",
   "version": "3.9.13"
  }
 },
 "nbformat": 4,
 "nbformat_minor": 5
}
