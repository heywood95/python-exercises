{
 "cells": [
  {
   "cell_type": "code",
   "execution_count": 4,
   "id": "9d4bbccb",
   "metadata": {},
   "outputs": [
    {
     "data": {
      "text/plain": [
       "8"
      ]
     },
     "execution_count": 4,
     "metadata": {},
     "output_type": "execute_result"
    }
   ],
   "source": [
    "3 + 5\n",
    "7 + 7\n",
    "4 + 4\n",
    "# Enter Create a new line in the cell\n",
    "# Shift + Enter Run the current cell\n",
    "# Ctrl + S Save\n",
    "# Esc + A Insert cell above\n",
    "# Esc + B Insert cell below\n",
    "# Esc + x Cut selected cells"
   ]
  },
  {
   "cell_type": "code",
   "execution_count": 5,
   "id": "2a456f04",
   "metadata": {},
   "outputs": [
    {
     "data": {
      "text/plain": [
       "int"
      ]
     },
     "execution_count": 5,
     "metadata": {},
     "output_type": "execute_result"
    }
   ],
   "source": [
    "type(123)\n",
    "# The data type is int (for integer)"
   ]
  },
  {
   "cell_type": "code",
   "execution_count": 6,
   "id": "3c66ddb5",
   "metadata": {},
   "outputs": [
    {
     "data": {
      "text/plain": [
       "str"
      ]
     },
     "execution_count": 6,
     "metadata": {},
     "output_type": "execute_result"
    }
   ],
   "source": [
    "type('hello') \n",
    "# The data type is str (for string)"
   ]
  },
  {
   "cell_type": "code",
   "execution_count": 8,
   "id": "7f6e4beb",
   "metadata": {},
   "outputs": [
    {
     "data": {
      "text/plain": [
       "bool"
      ]
     },
     "execution_count": 8,
     "metadata": {},
     "output_type": "execute_result"
    }
   ],
   "source": [
    "type(True)\n",
    "# A boolean data type is True or False"
   ]
  },
  {
   "cell_type": "code",
   "execution_count": 9,
   "id": "1fb02952",
   "metadata": {},
   "outputs": [
    {
     "data": {
      "text/plain": [
       "str"
      ]
     },
     "execution_count": 9,
     "metadata": {},
     "output_type": "execute_result"
    }
   ],
   "source": [
    "type('True')"
   ]
  },
  {
   "cell_type": "code",
   "execution_count": 10,
   "id": "7ebd0178",
   "metadata": {},
   "outputs": [],
   "source": [
    "# Assign a value to a variable\n",
    "favorite_number = 42\n",
    "n = favorite_number + 7"
   ]
  },
  {
   "cell_type": "code",
   "execution_count": 11,
   "id": "09d83682",
   "metadata": {},
   "outputs": [
    {
     "name": "stdout",
     "output_type": "stream",
     "text": [
      "42\n"
     ]
    }
   ],
   "source": [
    "# Print favorite_number\n",
    "print(favorite_number)"
   ]
  },
  {
   "cell_type": "code",
   "execution_count": 12,
   "id": "12c51523",
   "metadata": {},
   "outputs": [
    {
     "data": {
      "text/plain": [
       "int"
      ]
     },
     "execution_count": 12,
     "metadata": {},
     "output_type": "execute_result"
    }
   ],
   "source": [
    "# Return the data type for favorite_number\n",
    "type(favorite_number)"
   ]
  },
  {
   "cell_type": "code",
   "execution_count": 13,
   "id": "770006f9",
   "metadata": {},
   "outputs": [
    {
     "data": {
      "text/plain": [
       "str"
      ]
     },
     "execution_count": 13,
     "metadata": {},
     "output_type": "execute_result"
    }
   ],
   "source": [
    "# This is a string nambed favorite_number\n",
    "type('favorite_number')"
   ]
  },
  {
   "cell_type": "code",
   "execution_count": 14,
   "id": "eb9e4e75",
   "metadata": {},
   "outputs": [
    {
     "name": "stdout",
     "output_type": "stream",
     "text": [
      "49\n"
     ]
    }
   ],
   "source": [
    "print(n)"
   ]
  },
  {
   "cell_type": "code",
   "execution_count": 15,
   "id": "ded8f5b6",
   "metadata": {},
   "outputs": [
    {
     "name": "stdout",
     "output_type": "stream",
     "text": [
      "1\n",
      "2\n",
      "8\n"
     ]
    }
   ],
   "source": [
    "# The value of a variable can be reassigned\n",
    "x = 1\n",
    "print(x)\n",
    "x = x + 1\n",
    "print(x)\n",
    "x = x * 3 + x\n",
    "print(x)"
   ]
  },
  {
   "cell_type": "code",
   "execution_count": 16,
   "id": "513a935c",
   "metadata": {},
   "outputs": [
    {
     "data": {
      "text/plain": [
       "True"
      ]
     },
     "execution_count": 16,
     "metadata": {},
     "output_type": "execute_result"
    }
   ],
   "source": [
    "# Boolean value\n",
    "# True (capital T)\n",
    "# False (capital F)\n",
    "\n",
    "# Check equality\n",
    "\n",
    "# Does True equal True?\n",
    "\n",
    "True == True\n",
    "\n",
    "\n"
   ]
  },
  {
   "cell_type": "code",
   "execution_count": 17,
   "id": "a5733b81",
   "metadata": {},
   "outputs": [
    {
     "data": {
      "text/plain": [
       "False"
      ]
     },
     "execution_count": 17,
     "metadata": {},
     "output_type": "execute_result"
    }
   ],
   "source": [
    "# Does True equal False?\n",
    "\n",
    "True == False"
   ]
  },
  {
   "cell_type": "code",
   "execution_count": 18,
   "id": "c3804dd0",
   "metadata": {},
   "outputs": [
    {
     "data": {
      "text/plain": [
       "False"
      ]
     },
     "execution_count": 18,
     "metadata": {},
     "output_type": "execute_result"
    }
   ],
   "source": [
    "# Checking inequality\n",
    "# Is True NOT EQUAL to True\n",
    "True != True\n"
   ]
  },
  {
   "cell_type": "code",
   "execution_count": 19,
   "id": "3c42d486",
   "metadata": {},
   "outputs": [
    {
     "data": {
      "text/plain": [
       "True"
      ]
     },
     "execution_count": 19,
     "metadata": {},
     "output_type": "execute_result"
    }
   ],
   "source": [
    "# Is True NOT EQUAL to False\n",
    "True != False"
   ]
  },
  {
   "cell_type": "code",
   "execution_count": 20,
   "id": "a1e45928",
   "metadata": {},
   "outputs": [
    {
     "data": {
      "text/plain": [
       "True"
      ]
     },
     "execution_count": 20,
     "metadata": {},
     "output_type": "execute_result"
    }
   ],
   "source": [
    "# not operator\n",
    "# Take the opposite\n",
    "not False"
   ]
  },
  {
   "cell_type": "code",
   "execution_count": 21,
   "id": "dc50addc",
   "metadata": {},
   "outputs": [
    {
     "data": {
      "text/plain": [
       "True"
      ]
     },
     "execution_count": 21,
     "metadata": {},
     "output_type": "execute_result"
    }
   ],
   "source": [
    "# and operator\n",
    "# Equal True when both statements are true\n",
    "True and True"
   ]
  },
  {
   "cell_type": "code",
   "execution_count": 23,
   "id": "c83b2980",
   "metadata": {},
   "outputs": [
    {
     "data": {
      "text/plain": [
       "False"
      ]
     },
     "execution_count": 23,
     "metadata": {},
     "output_type": "execute_result"
    }
   ],
   "source": [
    "# Evaluating and operators\n",
    "\n",
    "# True and True = True\n",
    "# True and False = False\n",
    "# False and False = False\n",
    "\n",
    "False and False"
   ]
  },
  {
   "cell_type": "code",
   "execution_count": 24,
   "id": "948b034e",
   "metadata": {},
   "outputs": [
    {
     "data": {
      "text/plain": [
       "False"
      ]
     },
     "execution_count": 24,
     "metadata": {},
     "output_type": "execute_result"
    }
   ],
   "source": [
    "True and False"
   ]
  },
  {
   "cell_type": "code",
   "execution_count": 25,
   "id": "15912824",
   "metadata": {},
   "outputs": [
    {
     "data": {
      "text/plain": [
       "True"
      ]
     },
     "execution_count": 25,
     "metadata": {},
     "output_type": "execute_result"
    }
   ],
   "source": [
    "# Evaluating or operators\n",
    "\n",
    "# True or False = True\n",
    "# True or True = True\n",
    "# False or False = False\n",
    "\n",
    "True or False"
   ]
  },
  {
   "cell_type": "code",
   "execution_count": 26,
   "id": "02bc50b6",
   "metadata": {},
   "outputs": [
    {
     "data": {
      "text/plain": [
       "True"
      ]
     },
     "execution_count": 26,
     "metadata": {},
     "output_type": "execute_result"
    }
   ],
   "source": [
    "True or True"
   ]
  },
  {
   "cell_type": "code",
   "execution_count": 27,
   "id": "ff463cfb",
   "metadata": {},
   "outputs": [
    {
     "data": {
      "text/plain": [
       "False"
      ]
     },
     "execution_count": 27,
     "metadata": {},
     "output_type": "execute_result"
    }
   ],
   "source": [
    "False or False"
   ]
  },
  {
   "cell_type": "code",
   "execution_count": 29,
   "id": "9b58d706",
   "metadata": {},
   "outputs": [
    {
     "name": "stdout",
     "output_type": "stream",
     "text": [
      "True\n"
     ]
    }
   ],
   "source": [
    "# Assigning Boolean values to a variable\n",
    "\n",
    "is_first_of_the_month = True\n",
    "report_has_been_sent = False\n",
    "\n",
    "should_process_report = is_first_of_the_month and not report_has_been_sent\n",
    "\n",
    "# = True  and not False\n",
    "# = True and True\n",
    "print(should_process_report)\n",
    "\n",
    "# Evaluate the Boolean values"
   ]
  },
  {
   "cell_type": "code",
   "execution_count": 30,
   "id": "8d3b408a",
   "metadata": {},
   "outputs": [],
   "source": [
    "# is_first_of_the _month  is now False\n",
    "## = False  and not False\n",
    "# = False and True\n",
    "# = False\n",
    "\n",
    "\n",
    "# If report_has_been_sent  is now True\n",
    "## = True  and not True\n",
    "# = True and False\n",
    "# = False"
   ]
  },
  {
   "cell_type": "code",
   "execution_count": 32,
   "id": "48c6db04",
   "metadata": {},
   "outputs": [
    {
     "data": {
      "text/plain": [
       "True"
      ]
     },
     "execution_count": 32,
     "metadata": {},
     "output_type": "execute_result"
    }
   ],
   "source": [
    "# Comparison Operators\n",
    "# Check equality\n",
    "1 == 1"
   ]
  },
  {
   "cell_type": "code",
   "execution_count": 36,
   "id": "3f8ad8db",
   "metadata": {},
   "outputs": [
    {
     "data": {
      "text/plain": [
       "True"
      ]
     },
     "execution_count": 36,
     "metadata": {},
     "output_type": "execute_result"
    }
   ],
   "source": [
    "# Check inequality\n",
    "# Is 1 NOT EQUAL to 0\n",
    "1 != 0"
   ]
  },
  {
   "cell_type": "code",
   "execution_count": 34,
   "id": "755b4bdb",
   "metadata": {},
   "outputs": [
    {
     "data": {
      "text/plain": [
       "True"
      ]
     },
     "execution_count": 34,
     "metadata": {},
     "output_type": "execute_result"
    }
   ],
   "source": [
    "# Compare two strings\n",
    "'hello' == 'hello'"
   ]
  },
  {
   "cell_type": "code",
   "execution_count": 35,
   "id": "fa471058",
   "metadata": {},
   "outputs": [
    {
     "data": {
      "text/plain": [
       "False"
      ]
     },
     "execution_count": 35,
     "metadata": {},
     "output_type": "execute_result"
    }
   ],
   "source": [
    "'hello' == 'Hello'"
   ]
  },
  {
   "cell_type": "code",
   "execution_count": 37,
   "id": "e03e727e",
   "metadata": {},
   "outputs": [
    {
     "data": {
      "text/plain": [
       "True"
      ]
     },
     "execution_count": 37,
     "metadata": {},
     "output_type": "execute_result"
    }
   ],
   "source": [
    "# Check if value is greater than another value\n",
    "# Is 1 greater than 0?\n",
    "1 > 0"
   ]
  },
  {
   "cell_type": "code",
   "execution_count": 38,
   "id": "f9090c52",
   "metadata": {},
   "outputs": [
    {
     "data": {
      "text/plain": [
       "False"
      ]
     },
     "execution_count": 38,
     "metadata": {},
     "output_type": "execute_result"
    }
   ],
   "source": [
    "# Is 5 < 4\n",
    "5 < 4"
   ]
  },
  {
   "cell_type": "code",
   "execution_count": 39,
   "id": "75b58468",
   "metadata": {},
   "outputs": [
    {
     "data": {
      "text/plain": [
       "True"
      ]
     },
     "execution_count": 39,
     "metadata": {},
     "output_type": "execute_result"
    }
   ],
   "source": [
    "# Greater than or equal to\n",
    "5 <= 5"
   ]
  },
  {
   "cell_type": "code",
   "execution_count": 40,
   "id": "84774c31",
   "metadata": {},
   "outputs": [
    {
     "data": {
      "text/plain": [
       "False"
      ]
     },
     "execution_count": 40,
     "metadata": {},
     "output_type": "execute_result"
    }
   ],
   "source": [
    "# Less than or equl to\n",
    "2 <= 0"
   ]
  },
  {
   "cell_type": "code",
   "execution_count": 41,
   "id": "53ce2f70",
   "metadata": {},
   "outputs": [
    {
     "data": {
      "text/plain": [
       "True"
      ]
     },
     "execution_count": 41,
     "metadata": {},
     "output_type": "execute_result"
    }
   ],
   "source": [
    "4 + 5 > 10 - 2"
   ]
  },
  {
   "cell_type": "code",
   "execution_count": 42,
   "id": "ab7fbbf4",
   "metadata": {},
   "outputs": [
    {
     "data": {
      "text/plain": [
       "'     hello, codeup!     '"
      ]
     },
     "execution_count": 42,
     "metadata": {},
     "output_type": "execute_result"
    }
   ],
   "source": [
    "# Manipulate the string\n",
    "# Not modify the string\n",
    "\n",
    "# Assign a string to the variable s\n",
    "s = '     Hello, Codeup!     '\n",
    "# Apply the string method lower to variable s\n",
    "s.lower()\n"
   ]
  },
  {
   "cell_type": "code",
   "execution_count": 43,
   "id": "3fc38c52",
   "metadata": {},
   "outputs": [
    {
     "data": {
      "text/plain": [
       "'Hello, Codeup!'"
      ]
     },
     "execution_count": 43,
     "metadata": {},
     "output_type": "execute_result"
    }
   ],
   "source": [
    "# Apply the string method strip\n",
    "s.strip()"
   ]
  },
  {
   "cell_type": "code",
   "execution_count": 44,
   "id": "6c166596",
   "metadata": {},
   "outputs": [
    {
     "data": {
      "text/plain": [
       "False"
      ]
     },
     "execution_count": 44,
     "metadata": {},
     "output_type": "execute_result"
    }
   ],
   "source": [
    "# Apply the string method isdigit\n",
    "# Returns True if string is a digit\n",
    "s.isdigit()"
   ]
  },
  {
   "cell_type": "code",
   "execution_count": 45,
   "id": "4b95139b",
   "metadata": {},
   "outputs": [
    {
     "data": {
      "text/plain": [
       "True"
      ]
     },
     "execution_count": 45,
     "metadata": {},
     "output_type": "execute_result"
    }
   ],
   "source": [
    "# Apply isdigit to the string '123'\n",
    "'123' .isdigit()"
   ]
  },
  {
   "cell_type": "code",
   "execution_count": 46,
   "id": "4c8275e5",
   "metadata": {},
   "outputs": [
    {
     "data": {
      "text/plain": [
       "False"
      ]
     },
     "execution_count": 46,
     "metadata": {},
     "output_type": "execute_result"
    }
   ],
   "source": [
    "'hello'.isdigit()"
   ]
  },
  {
   "cell_type": "code",
   "execution_count": 47,
   "id": "35e6e700",
   "metadata": {},
   "outputs": [
    {
     "data": {
      "text/plain": [
       "['Hello', 'Codeup!']"
      ]
     },
     "execution_count": 47,
     "metadata": {},
     "output_type": "execute_result"
    }
   ],
   "source": [
    "s.strip() .split(', ')"
   ]
  },
  {
   "cell_type": "code",
   "execution_count": 48,
   "id": "e90fde13",
   "metadata": {},
   "outputs": [
    {
     "data": {
      "text/plain": [
       "'one, two, three'"
      ]
     },
     "execution_count": 48,
     "metadata": {},
     "output_type": "execute_result"
    }
   ],
   "source": [
    "', '.join(['one', 'two', 'three'])"
   ]
  },
  {
   "cell_type": "code",
   "execution_count": null,
   "id": "5c23965f",
   "metadata": {},
   "outputs": [],
   "source": [
    "# Create a list\n",
    "# Enclosed in square brackets"
   ]
  },
  {
   "cell_type": "code",
   "execution_count": 49,
   "id": "42447064",
   "metadata": {},
   "outputs": [
    {
     "data": {
      "text/plain": [
       "[1, 2, 3]"
      ]
     },
     "execution_count": 49,
     "metadata": {},
     "output_type": "execute_result"
    }
   ],
   "source": [
    "# Contains integers\n",
    "[1, 2, 3]"
   ]
  },
  {
   "cell_type": "code",
   "execution_count": 50,
   "id": "da4fa654",
   "metadata": {},
   "outputs": [
    {
     "data": {
      "text/plain": [
       "list"
      ]
     },
     "execution_count": 50,
     "metadata": {},
     "output_type": "execute_result"
    }
   ],
   "source": [
    "type([1, 2, 3])"
   ]
  },
  {
   "cell_type": "code",
   "execution_count": 51,
   "id": "c5b3d58b",
   "metadata": {},
   "outputs": [
    {
     "data": {
      "text/plain": [
       "['one', 'two', 'three']"
      ]
     },
     "execution_count": 51,
     "metadata": {},
     "output_type": "execute_result"
    }
   ],
   "source": [
    "# List with 3 strings\n",
    "['one', 'two', 'three']"
   ]
  },
  {
   "cell_type": "code",
   "execution_count": 52,
   "id": "a4953844",
   "metadata": {},
   "outputs": [
    {
     "name": "stdout",
     "output_type": "stream",
     "text": [
      "['one', 'two', 'three']\n"
     ]
    }
   ],
   "source": [
    "# Assign the list to a variable\n",
    "my_list = ['one', 'two', 'three']\n",
    "print(my_list)"
   ]
  },
  {
   "cell_type": "code",
   "execution_count": 53,
   "id": "bc91b82f",
   "metadata": {},
   "outputs": [
    {
     "data": {
      "text/plain": [
       "[[1, 2, 3], [4, 5, 6], [7, 8, 9]]"
      ]
     },
     "execution_count": 53,
     "metadata": {},
     "output_type": "execute_result"
    }
   ],
   "source": [
    "# A list with 3 lists\n",
    "[[1, 2, 3], [4, 5, 6], [7, 8, 9]]\n"
   ]
  },
  {
   "cell_type": "code",
   "execution_count": 54,
   "id": "32e6ab85",
   "metadata": {},
   "outputs": [
    {
     "data": {
      "text/plain": [
       "[0, 1, 2, 3, 4, 5, 6, 7, 8, 9]"
      ]
     },
     "execution_count": 54,
     "metadata": {},
     "output_type": "execute_result"
    }
   ],
   "source": [
    "# Creating lists with list comprehension\n",
    "[n for n in range(10)]\n",
    "# Start with 0\n",
    "# Do not include 10"
   ]
  },
  {
   "cell_type": "code",
   "execution_count": 55,
   "id": "9dac186f",
   "metadata": {},
   "outputs": [
    {
     "data": {
      "text/plain": [
       "[0, 2, 4, 6, 8, 10, 12, 14, 16, 18]"
      ]
     },
     "execution_count": 55,
     "metadata": {},
     "output_type": "execute_result"
    }
   ],
   "source": [
    "[ n * 2 for n in range(10)]"
   ]
  },
  {
   "cell_type": "code",
   "execution_count": 56,
   "id": "a2d2aed8",
   "metadata": {},
   "outputs": [
    {
     "data": {
      "text/plain": [
       "[0, 4, 8, 12, 16]"
      ]
     },
     "execution_count": 56,
     "metadata": {},
     "output_type": "execute_result"
    }
   ],
   "source": [
    "[n * 2 for n in range(10) if n % 2 == 0]\n",
    "# Checking for equality\n",
    "# If n % 2 == 0\n",
    "# n = 0 Condition it True\n",
    "# n = 1 Condition is False\n",
    "# n = 2 Condition is True\n",
    "# n = 3 Condition is False  (2 * 3) is not included"
   ]
  },
  {
   "cell_type": "code",
   "execution_count": null,
   "id": "f81cd16d",
   "metadata": {},
   "outputs": [],
   "source": []
  }
 ],
 "metadata": {
  "kernelspec": {
   "display_name": "Python 3 (ipykernel)",
   "language": "python",
   "name": "python3"
  },
  "language_info": {
   "codemirror_mode": {
    "name": "ipython",
    "version": 3
   },
   "file_extension": ".py",
   "mimetype": "text/x-python",
   "name": "python",
   "nbconvert_exporter": "python",
   "pygments_lexer": "ipython3",
   "version": "3.9.13"
  }
 },
 "nbformat": 4,
 "nbformat_minor": 5
}
