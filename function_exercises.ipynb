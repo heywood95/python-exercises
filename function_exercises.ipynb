{
 "cells": [
  {
   "cell_type": "markdown",
   "id": "18150394",
   "metadata": {},
   "source": [
    "1. Define a function named is_two. It should accept one input and return True if the passed input is either the number or the string 2, False otherwise."
   ]
  },
  {
   "cell_type": "code",
   "execution_count": 56,
   "id": "9e7c3567",
   "metadata": {},
   "outputs": [
    {
     "data": {
      "text/plain": [
       "True"
      ]
     },
     "execution_count": 56,
     "metadata": {},
     "output_type": "execute_result"
    }
   ],
   "source": [
    "def is_two(x):\n",
    "    if x == 2:\n",
    "        return True\n",
    "    elif x == '2':\n",
    "        return True\n",
    "    else:\n",
    "        return False\n",
    "is_two(2)\n",
    "   "
   ]
  },
  {
   "cell_type": "markdown",
   "id": "88d811be",
   "metadata": {},
   "source": [
    "2. Define a function named is_vowel. It should return True if the passed string is a vowel, False otherwise."
   ]
  },
  {
   "cell_type": "code",
   "execution_count": 72,
   "id": "463cf683",
   "metadata": {},
   "outputs": [
    {
     "data": {
      "text/plain": [
       "True"
      ]
     },
     "execution_count": 72,
     "metadata": {},
     "output_type": "execute_result"
    }
   ],
   "source": [
    "def is_vowel(string):\n",
    "    vowel = 0\n",
    "    for n in string:\n",
    "        if string in 'aeiouAEIOU':\n",
    "            vowel = vowel + 1\n",
    "        else: \n",
    "            vowel = vowels\n",
    "        if vowel != 0:\n",
    "            return True\n",
    "        else:\n",
    "            False\n",
    "is_vowel('a')\n",
    "            \n",
    "        \n",
    "    "
   ]
  },
  {
   "cell_type": "markdown",
   "id": "edecf4cf",
   "metadata": {},
   "source": [
    "3. Define a function named is_consonant. It should return True if the passed string is a consonant, False otherwise. Use your is_vowel function to accomplish this."
   ]
  },
  {
   "cell_type": "code",
   "execution_count": 77,
   "id": "ad8ed00d",
   "metadata": {},
   "outputs": [
    {
     "data": {
      "text/plain": [
       "False"
      ]
     },
     "execution_count": 77,
     "metadata": {},
     "output_type": "execute_result"
    }
   ],
   "source": [
    "def is_constant(string):\n",
    "    return len(string) == 1 and not is_vowel(string) and string.isalpha()\n",
    "is_constant('a')"
   ]
  },
  {
   "cell_type": "markdown",
   "id": "b4154217",
   "metadata": {},
   "source": [
    "4. Define a function that accepts a string that is a word. The function should capitalize the first letter of the word if the word starts with a consonant."
   ]
  },
  {
   "cell_type": "code",
   "execution_count": 76,
   "id": "e029dcee",
   "metadata": {},
   "outputs": [
    {
     "name": "stdout",
     "output_type": "stream",
     "text": [
      "Where\n"
     ]
    }
   ],
   "source": [
    "def word_cap(user_word):\n",
    "    if user_word[0].lower() in ('a', 'e', 'i', 'o', 'u'):\n",
    "        print(user_word)\n",
    "    else:\n",
    "        print(user_word.capitalize())\n",
    "word_cap('where')"
   ]
  },
  {
   "cell_type": "markdown",
   "id": "9ab2f89c",
   "metadata": {},
   "source": [
    "5. Define a function named calculate_tip. It should accept a tip percentage (a number between 0 and 1) and the bill total, and return the amount to tip."
   ]
  },
  {
   "cell_type": "code",
   "execution_count": 79,
   "id": "dd31efc3",
   "metadata": {},
   "outputs": [
    {
     "name": "stdout",
     "output_type": "stream",
     "text": [
      "enter total bill: 100\n",
      "entertip percentage: 10\n",
      "you should leave 10.0 as the tip\n"
     ]
    }
   ],
   "source": [
    "total_bill = int(input('enter total bill: '))\n",
    "tip_perc = int(input('entertip percentage: '))\n",
    "leave_tip = total_bill/tip_perc\n",
    "\n",
    "print(f'you should leave {leave_tip} as the tip')"
   ]
  },
  {
   "cell_type": "markdown",
   "id": "bb2cd5e9",
   "metadata": {},
   "source": [
    "6. Define a function named apply_discount. It should accept a original price, and a discount percentage, and return the price after the discount is applied."
   ]
  },
  {
   "cell_type": "code",
   "execution_count": 80,
   "id": "49346127",
   "metadata": {},
   "outputs": [
    {
     "data": {
      "text/plain": [
       "80.0"
      ]
     },
     "execution_count": 80,
     "metadata": {},
     "output_type": "execute_result"
    }
   ],
   "source": [
    "def apply_discount(price, disc_perc):\n",
    "    discount = price * disc_perc\n",
    "    return price - discount\n",
    "apply_discount(100, .20)"
   ]
  },
  {
   "cell_type": "markdown",
   "id": "d224f8dd",
   "metadata": {},
   "source": [
    "7. Define a function named handle_commas. It should accept a string that is a number that contains commas in it as input, and return a number as output."
   ]
  },
  {
   "cell_type": "code",
   "execution_count": 81,
   "id": "ebe48430",
   "metadata": {},
   "outputs": [
    {
     "data": {
      "text/plain": [
       "'1000'"
      ]
     },
     "execution_count": 81,
     "metadata": {},
     "output_type": "execute_result"
    }
   ],
   "source": [
    "def hand_commas(string):\n",
    "    string = string.replace(\",\", \"\")\n",
    "    return string\n",
    "hand_commas('1,000')"
   ]
  },
  {
   "cell_type": "markdown",
   "id": "ecdb2137",
   "metadata": {},
   "source": [
    "8. Define a function named get_letter_grade. It should accept a number and return the letter grade associated with that number (A-F)."
   ]
  },
  {
   "cell_type": "code",
   "execution_count": 84,
   "id": "381802db",
   "metadata": {},
   "outputs": [
    {
     "name": "stdout",
     "output_type": "stream",
     "text": [
      "A\n"
     ]
    }
   ],
   "source": [
    "def get_letter_grade(g):\n",
    "    if g >= 90:\n",
    "        print('A')\n",
    "    elif g >= 80:\n",
    "        print('B')\n",
    "    elif g >= 70:\n",
    "        print('C')\n",
    "    elif g >= 60:\n",
    "        print('C')\n",
    "    else:\n",
    "        print('F')\n",
    "get_letter_grade(100)"
   ]
  },
  {
   "cell_type": "markdown",
   "id": "2d38e396",
   "metadata": {},
   "source": [
    "9. Define a function named remove_vowels that accepts a string and returns a string with all the vowels removed."
   ]
  },
  {
   "cell_type": "code",
   "execution_count": 87,
   "id": "d22e630b",
   "metadata": {},
   "outputs": [
    {
     "name": "stdout",
     "output_type": "stream",
     "text": [
      "dm\n"
     ]
    }
   ],
   "source": [
    "def remove_vowels(string):\n",
    "    newstring = \"\"\n",
    "    vowels = ('a', 'e', 'i', 'o', 'u')\n",
    "    for x in string.lower():\n",
    "        if x in vowels:\n",
    "            newstring = string.replace(x, \"\")\n",
    "    print(newstring)\n",
    "remove_vowels('adam')"
   ]
  },
  {
   "cell_type": "markdown",
   "id": "98b1391f",
   "metadata": {},
   "source": [
    "10. Define a function named normalize_name. It should accept a string and return a valid python identifier, that is:\n",
    "\n",
    "anything that is not a valid python identifier should be removed\n",
    "\n",
    "leading and trailing whitespace should be removed\n",
    "\n",
    "everything should be lowercase\n",
    "\n",
    "spaces should be replaced with underscores\n",
    "\n",
    "for example:\n",
    "\n",
    "Name will become name\n",
    "\n",
    "First Name will become first_name\n",
    "\n",
    "% Completed will become completed"
   ]
  },
  {
   "cell_type": "code",
   "execution_count": 105,
   "id": "2f0f708c",
   "metadata": {},
   "outputs": [
    {
     "name": "stdout",
     "output_type": "stream",
     "text": [
      "whatisupworld\n"
     ]
    }
   ],
   "source": [
    "def normalize_name(string):\n",
    "    newstring = string.isidentifier()\n",
    "    if newstring == False:\n",
    "        string = string.replace(\"$\", \"\")\n",
    "        string = string.replace(\"%\", \"\")\n",
    "        string = string.replace(\"_\", \"\")\n",
    "        string = string.replace(\"!\", \"\")\n",
    "        string = string.replace(\"?\", \"\")\n",
    "        string = string.replace(\"#\", \"\")\n",
    "        print(string.replace(\" \", \"\").lower())\n",
    "    else:\n",
    "        print(string)\n",
    "normalize_name('what is up World$')"
   ]
  },
  {
   "cell_type": "markdown",
   "id": "9669e67a",
   "metadata": {},
   "source": [
    "11. Write a function named cumulative_sum that accepts a list of numbers and returns a list that is the cumulative sum of the numbers in the list.\n",
    "\n",
    "cumulative_sum([1, 1, 1]) returns [1, 2, 3]\n",
    "\n",
    "cumulative_sum([1, 2, 3, 4]) returns [1, 3, 6, 10]"
   ]
  },
  {
   "cell_type": "code",
   "execution_count": 107,
   "id": "f910972c",
   "metadata": {},
   "outputs": [
    {
     "name": "stdout",
     "output_type": "stream",
     "text": [
      "[1, 3, 6]\n"
     ]
    }
   ],
   "source": [
    "def cumulative_sum(nums):\n",
    "    output = []\n",
    "    total = 0\n",
    "    for num in nums:\n",
    "        total += num\n",
    "        output.append(total)\n",
    "    print(output)\n",
    "cumulative_sum([1, 2, 3])\n",
    "    "
   ]
  }
 ],
 "metadata": {
  "kernelspec": {
   "display_name": "Python 3 (ipykernel)",
   "language": "python",
   "name": "python3"
  },
  "language_info": {
   "codemirror_mode": {
    "name": "ipython",
    "version": 3
   },
   "file_extension": ".py",
   "mimetype": "text/x-python",
   "name": "python",
   "nbconvert_exporter": "python",
   "pygments_lexer": "ipython3",
   "version": "3.9.13"
  }
 },
 "nbformat": 4,
 "nbformat_minor": 5
}
